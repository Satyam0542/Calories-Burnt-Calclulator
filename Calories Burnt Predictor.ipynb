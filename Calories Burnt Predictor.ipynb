{
 "cells": [
  {
   "cell_type": "code",
   "execution_count": 1,
   "metadata": {},
   "outputs": [],
   "source": [
    "import statsmodels.api as sm\n",
    "import numpy as np\n",
    "import pandas as pd\n",
    "import matplotlib.pyplot as plt\n",
    "import seaborn as sns\n",
    "\n",
    "%matplotlib inline"
   ]
  },
  {
   "cell_type": "code",
   "execution_count": 4,
   "metadata": {},
   "outputs": [
    {
     "data": {
      "text/html": [
       "<div>\n",
       "<style scoped>\n",
       "    .dataframe tbody tr th:only-of-type {\n",
       "        vertical-align: middle;\n",
       "    }\n",
       "\n",
       "    .dataframe tbody tr th {\n",
       "        vertical-align: top;\n",
       "    }\n",
       "\n",
       "    .dataframe thead th {\n",
       "        text-align: right;\n",
       "    }\n",
       "</style>\n",
       "<table border=\"1\" class=\"dataframe\">\n",
       "  <thead>\n",
       "    <tr style=\"text-align: right;\">\n",
       "      <th></th>\n",
       "      <th>User_ID</th>\n",
       "      <th>Gender</th>\n",
       "      <th>Age</th>\n",
       "      <th>Height(cm)</th>\n",
       "      <th>Weight(Kg)</th>\n",
       "      <th>Duration(min.)</th>\n",
       "      <th>Heart_Rate</th>\n",
       "      <th>Body_Temp</th>\n",
       "      <th>Calories</th>\n",
       "    </tr>\n",
       "  </thead>\n",
       "  <tbody>\n",
       "    <tr>\n",
       "      <th>0</th>\n",
       "      <td>10001159</td>\n",
       "      <td>female</td>\n",
       "      <td>67</td>\n",
       "      <td>176</td>\n",
       "      <td>74</td>\n",
       "      <td>12</td>\n",
       "      <td>103</td>\n",
       "      <td>39.6</td>\n",
       "      <td>76</td>\n",
       "    </tr>\n",
       "    <tr>\n",
       "      <th>1</th>\n",
       "      <td>10001607</td>\n",
       "      <td>female</td>\n",
       "      <td>34</td>\n",
       "      <td>178</td>\n",
       "      <td>79</td>\n",
       "      <td>19</td>\n",
       "      <td>96</td>\n",
       "      <td>40.6</td>\n",
       "      <td>93</td>\n",
       "    </tr>\n",
       "    <tr>\n",
       "      <th>2</th>\n",
       "      <td>10005485</td>\n",
       "      <td>female</td>\n",
       "      <td>38</td>\n",
       "      <td>178</td>\n",
       "      <td>77</td>\n",
       "      <td>14</td>\n",
       "      <td>82</td>\n",
       "      <td>40.5</td>\n",
       "      <td>49</td>\n",
       "    </tr>\n",
       "    <tr>\n",
       "      <th>3</th>\n",
       "      <td>10005630</td>\n",
       "      <td>female</td>\n",
       "      <td>39</td>\n",
       "      <td>169</td>\n",
       "      <td>66</td>\n",
       "      <td>8</td>\n",
       "      <td>90</td>\n",
       "      <td>39.6</td>\n",
       "      <td>36</td>\n",
       "    </tr>\n",
       "    <tr>\n",
       "      <th>4</th>\n",
       "      <td>10006441</td>\n",
       "      <td>male</td>\n",
       "      <td>23</td>\n",
       "      <td>169</td>\n",
       "      <td>73</td>\n",
       "      <td>25</td>\n",
       "      <td>102</td>\n",
       "      <td>40.7</td>\n",
       "      <td>122</td>\n",
       "    </tr>\n",
       "  </tbody>\n",
       "</table>\n",
       "</div>"
      ],
      "text/plain": [
       "    User_ID  Gender  Age  Height(cm)  Weight(Kg)  Duration(min.)  Heart_Rate  \\\n",
       "0  10001159  female   67         176          74              12         103   \n",
       "1  10001607  female   34         178          79              19          96   \n",
       "2  10005485  female   38         178          77              14          82   \n",
       "3  10005630  female   39         169          66               8          90   \n",
       "4  10006441    male   23         169          73              25         102   \n",
       "\n",
       "   Body_Temp  Calories  \n",
       "0       39.6        76  \n",
       "1       40.6        93  \n",
       "2       40.5        49  \n",
       "3       39.6        36  \n",
       "4       40.7       122  "
      ]
     },
     "execution_count": 4,
     "metadata": {},
     "output_type": "execute_result"
    }
   ],
   "source": [
    "df = pd.read_csv('exercise.csv')\n",
    "df.head()"
   ]
  },
  {
   "cell_type": "code",
   "execution_count": 5,
   "metadata": {},
   "outputs": [],
   "source": [
    "df_drop = pd.read_csv('exercise.csv',usecols=['Age','Height(cm)','Duration(min.)','Heart_Rate'])"
   ]
  },
  {
   "cell_type": "code",
   "execution_count": 6,
   "metadata": {},
   "outputs": [],
   "source": [
    "#a = {'female':1,'male':0}\n",
    "#df_drop.Gender = df_drop.Gender.map(a)"
   ]
  },
  {
   "cell_type": "code",
   "execution_count": 10,
   "metadata": {
    "scrolled": true
   },
   "outputs": [
    {
     "data": {
      "text/html": [
       "<div>\n",
       "<style scoped>\n",
       "    .dataframe tbody tr th:only-of-type {\n",
       "        vertical-align: middle;\n",
       "    }\n",
       "\n",
       "    .dataframe tbody tr th {\n",
       "        vertical-align: top;\n",
       "    }\n",
       "\n",
       "    .dataframe thead th {\n",
       "        text-align: right;\n",
       "    }\n",
       "</style>\n",
       "<table border=\"1\" class=\"dataframe\">\n",
       "  <thead>\n",
       "    <tr style=\"text-align: right;\">\n",
       "      <th></th>\n",
       "      <th>Age</th>\n",
       "      <th>Height(cm)</th>\n",
       "      <th>Duration(min.)</th>\n",
       "      <th>Heart_Rate</th>\n",
       "    </tr>\n",
       "  </thead>\n",
       "  <tbody>\n",
       "    <tr>\n",
       "      <th>0</th>\n",
       "      <td>67</td>\n",
       "      <td>176</td>\n",
       "      <td>12</td>\n",
       "      <td>103</td>\n",
       "    </tr>\n",
       "    <tr>\n",
       "      <th>1</th>\n",
       "      <td>34</td>\n",
       "      <td>178</td>\n",
       "      <td>19</td>\n",
       "      <td>96</td>\n",
       "    </tr>\n",
       "    <tr>\n",
       "      <th>2</th>\n",
       "      <td>38</td>\n",
       "      <td>178</td>\n",
       "      <td>14</td>\n",
       "      <td>82</td>\n",
       "    </tr>\n",
       "    <tr>\n",
       "      <th>3</th>\n",
       "      <td>39</td>\n",
       "      <td>169</td>\n",
       "      <td>8</td>\n",
       "      <td>90</td>\n",
       "    </tr>\n",
       "    <tr>\n",
       "      <th>4</th>\n",
       "      <td>23</td>\n",
       "      <td>169</td>\n",
       "      <td>25</td>\n",
       "      <td>102</td>\n",
       "    </tr>\n",
       "  </tbody>\n",
       "</table>\n",
       "</div>"
      ],
      "text/plain": [
       "   Age  Height(cm)  Duration(min.)  Heart_Rate\n",
       "0   67         176              12         103\n",
       "1   34         178              19          96\n",
       "2   38         178              14          82\n",
       "3   39         169               8          90\n",
       "4   23         169              25         102"
      ]
     },
     "execution_count": 10,
     "metadata": {},
     "output_type": "execute_result"
    }
   ],
   "source": [
    "df_drop.head()\n"
   ]
  },
  {
   "cell_type": "code",
   "execution_count": 11,
   "metadata": {},
   "outputs": [
    {
     "data": {
      "text/plain": [
       "(15000, 4)"
      ]
     },
     "execution_count": 11,
     "metadata": {},
     "output_type": "execute_result"
    }
   ],
   "source": [
    "df_drop.shape"
   ]
  },
  {
   "cell_type": "code",
   "execution_count": 12,
   "metadata": {},
   "outputs": [],
   "source": [
    "X = df_drop\n",
    "y = df.Calories\n"
   ]
  },
  {
   "cell_type": "code",
   "execution_count": 13,
   "metadata": {},
   "outputs": [],
   "source": [
    "from sklearn.preprocessing import StandardScaler\n",
    "mms = StandardScaler()\n",
    "mms.fit_transform(X,y);"
   ]
  },
  {
   "cell_type": "code",
   "execution_count": 14,
   "metadata": {},
   "outputs": [
    {
     "data": {
      "text/html": [
       "<table class=\"simpletable\">\n",
       "<caption>OLS Regression Results</caption>\n",
       "<tr>\n",
       "  <th>Dep. Variable:</th>        <td>Calories</td>     <th>  R-squared (uncentered):</th>      <td>   0.977</td> \n",
       "</tr>\n",
       "<tr>\n",
       "  <th>Model:</th>                   <td>OLS</td>       <th>  Adj. R-squared (uncentered):</th> <td>   0.977</td> \n",
       "</tr>\n",
       "<tr>\n",
       "  <th>Method:</th>             <td>Least Squares</td>  <th>  F-statistic:       </th>          <td>1.581e+05</td>\n",
       "</tr>\n",
       "<tr>\n",
       "  <th>Date:</th>             <td>Sun, 17 Oct 2021</td> <th>  Prob (F-statistic):</th>           <td>  0.00</td>  \n",
       "</tr>\n",
       "<tr>\n",
       "  <th>Time:</th>                 <td>10:46:33</td>     <th>  Log-Likelihood:    </th>          <td> -63439.</td> \n",
       "</tr>\n",
       "<tr>\n",
       "  <th>No. Observations:</th>      <td> 15000</td>      <th>  AIC:               </th>          <td>1.269e+05</td>\n",
       "</tr>\n",
       "<tr>\n",
       "  <th>Df Residuals:</th>          <td> 14996</td>      <th>  BIC:               </th>          <td>1.269e+05</td>\n",
       "</tr>\n",
       "<tr>\n",
       "  <th>Df Model:</th>              <td>     4</td>      <th>                     </th>              <td> </td>    \n",
       "</tr>\n",
       "<tr>\n",
       "  <th>Covariance Type:</th>      <td>nonrobust</td>    <th>                     </th>              <td> </td>    \n",
       "</tr>\n",
       "</table>\n",
       "<table class=\"simpletable\">\n",
       "<tr>\n",
       "         <td></td>           <th>coef</th>     <th>std err</th>      <th>t</th>      <th>P>|t|</th>  <th>[0.025</th>    <th>0.975]</th>  \n",
       "</tr>\n",
       "<tr>\n",
       "  <th>Age</th>            <td>    0.4471</td> <td>    0.008</td> <td>   56.341</td> <td> 0.000</td> <td>    0.432</td> <td>    0.463</td>\n",
       "</tr>\n",
       "<tr>\n",
       "  <th>Height(cm)</th>     <td>   -0.3620</td> <td>    0.008</td> <td>  -47.275</td> <td> 0.000</td> <td>   -0.377</td> <td>   -0.347</td>\n",
       "</tr>\n",
       "<tr>\n",
       "  <th>Duration(min.)</th> <td>    6.7367</td> <td>    0.025</td> <td>  274.695</td> <td> 0.000</td> <td>    6.689</td> <td>    6.785</td>\n",
       "</tr>\n",
       "<tr>\n",
       "  <th>Heart_Rate</th>     <td>    0.3085</td> <td>    0.017</td> <td>   18.299</td> <td> 0.000</td> <td>    0.275</td> <td>    0.342</td>\n",
       "</tr>\n",
       "</table>\n",
       "<table class=\"simpletable\">\n",
       "<tr>\n",
       "  <th>Omnibus:</th>       <td>3176.098</td> <th>  Durbin-Watson:     </th> <td>   1.985</td>\n",
       "</tr>\n",
       "<tr>\n",
       "  <th>Prob(Omnibus):</th>  <td> 0.000</td>  <th>  Jarque-Bera (JB):  </th> <td>9540.275</td>\n",
       "</tr>\n",
       "<tr>\n",
       "  <th>Skew:</th>           <td> 1.097</td>  <th>  Prob(JB):          </th> <td>    0.00</td>\n",
       "</tr>\n",
       "<tr>\n",
       "  <th>Kurtosis:</th>       <td> 6.232</td>  <th>  Cond. No.          </th> <td>    43.3</td>\n",
       "</tr>\n",
       "</table><br/><br/>Notes:<br/>[1] R² is computed without centering (uncentered) since the model does not contain a constant.<br/>[2] Standard Errors assume that the covariance matrix of the errors is correctly specified."
      ],
      "text/plain": [
       "<class 'statsmodels.iolib.summary.Summary'>\n",
       "\"\"\"\n",
       "                                 OLS Regression Results                                \n",
       "=======================================================================================\n",
       "Dep. Variable:               Calories   R-squared (uncentered):                   0.977\n",
       "Model:                            OLS   Adj. R-squared (uncentered):              0.977\n",
       "Method:                 Least Squares   F-statistic:                          1.581e+05\n",
       "Date:                Sun, 17 Oct 2021   Prob (F-statistic):                        0.00\n",
       "Time:                        10:46:33   Log-Likelihood:                         -63439.\n",
       "No. Observations:               15000   AIC:                                  1.269e+05\n",
       "Df Residuals:                   14996   BIC:                                  1.269e+05\n",
       "Df Model:                           4                                                  \n",
       "Covariance Type:            nonrobust                                                  \n",
       "==================================================================================\n",
       "                     coef    std err          t      P>|t|      [0.025      0.975]\n",
       "----------------------------------------------------------------------------------\n",
       "Age                0.4471      0.008     56.341      0.000       0.432       0.463\n",
       "Height(cm)        -0.3620      0.008    -47.275      0.000      -0.377      -0.347\n",
       "Duration(min.)     6.7367      0.025    274.695      0.000       6.689       6.785\n",
       "Heart_Rate         0.3085      0.017     18.299      0.000       0.275       0.342\n",
       "==============================================================================\n",
       "Omnibus:                     3176.098   Durbin-Watson:                   1.985\n",
       "Prob(Omnibus):                  0.000   Jarque-Bera (JB):             9540.275\n",
       "Skew:                           1.097   Prob(JB):                         0.00\n",
       "Kurtosis:                       6.232   Cond. No.                         43.3\n",
       "==============================================================================\n",
       "\n",
       "Notes:\n",
       "[1] R² is computed without centering (uncentered) since the model does not contain a constant.\n",
       "[2] Standard Errors assume that the covariance matrix of the errors is correctly specified.\n",
       "\"\"\""
      ]
     },
     "execution_count": 14,
     "metadata": {},
     "output_type": "execute_result"
    }
   ],
   "source": [
    "model = sm.OLS(y,X).fit()\n",
    "model.summary()"
   ]
  },
  {
   "cell_type": "code",
   "execution_count": 15,
   "metadata": {},
   "outputs": [
    {
     "name": "stdout",
     "output_type": "stream",
     "text": [
      "(10500, 4)\n",
      "(4500, 4)\n",
      "(10500,)\n",
      "(4500,)\n"
     ]
    }
   ],
   "source": [
    "from sklearn.model_selection import train_test_split\n",
    "\n",
    "X_train, X_test, y_train, y_test = train_test_split(X, y, test_size = 0.30, random_state=0)\n",
    "print(X_train.shape)\n",
    "print(X_test.shape)\n",
    "print(y_train.shape)\n",
    "print(y_test.shape)"
   ]
  },
  {
   "cell_type": "code",
   "execution_count": 16,
   "metadata": {},
   "outputs": [],
   "source": [
    "from sklearn.linear_model import LinearRegression \n",
    "from sklearn.metrics import r2_score\n",
    "\n",
    "lin_model = LinearRegression(fit_intercept=True)\n",
    "#model.fit(X_train, Y_train)\n",
    "#y_pred = lin_model.predict(X_test)"
   ]
  },
  {
   "cell_type": "code",
   "execution_count": 17,
   "metadata": {},
   "outputs": [],
   "source": [
    "lin_model = LinearRegression( fit_intercept=True)\n",
    "lin_model.fit(X_train, y_train)\n",
    "y_pred = lin_model.predict(X_test)"
   ]
  },
  {
   "cell_type": "code",
   "execution_count": 18,
   "metadata": {},
   "outputs": [
    {
     "data": {
      "text/plain": [
       "0.9601873027739907"
      ]
     },
     "execution_count": 18,
     "metadata": {},
     "output_type": "execute_result"
    }
   ],
   "source": [
    "score = r2_score(y_test,y_pred)\n",
    "score"
   ]
  },
  {
   "cell_type": "code",
   "execution_count": 19,
   "metadata": {},
   "outputs": [
    {
     "data": {
      "text/plain": [
       "array([0.52301513, 0.08547215, 5.20370886, 1.98766021])"
      ]
     },
     "execution_count": 19,
     "metadata": {},
     "output_type": "execute_result"
    }
   ],
   "source": [
    "coefficients = lin_model.coef_\n",
    "coefficients"
   ]
  },
  {
   "cell_type": "code",
   "execution_count": 30,
   "metadata": {},
   "outputs": [
    {
     "data": {
      "image/png": "[encoded data removed]",
      "text/plain": [
       "<Figure size 432x288 with 1 Axes>"
      ]
     },
     "metadata": {
      "needs_background": "light"
     },
     "output_type": "display_data"
    }
   ],
   "source": [
    "# Visualising the Training set results\n",
    "plt.scatter(X_train['Heart_Rate'], y_train, color = 'red')\n",
    "plt.plot(X_train['Heart_Rate'], lin_model.predict(X_train), color = 'blue')\n",
    "plt.title('Heart_Rate vs Calories_Burnt (Training set)')\n",
    "plt.xlabel('Heart_Rate')\n",
    "plt.ylabel('Calories_Burnt')\n",
    "plt.show()"
   ]
  },
  {
   "cell_type": "code",
   "execution_count": 32,
   "metadata": {},
   "outputs": [
    {
     "data": {
      "image/png": "[encoded data removed]",
      "text/plain": [
       "<Figure size 432x288 with 1 Axes>"
      ]
     },
     "metadata": {
      "needs_background": "light"
     },
     "output_type": "display_data"
    }
   ],
   "source": [
    "# Visualising the Test set results\n",
    "plt.scatter(X_test['Heart_Rate'], y_test, color = 'red')\n",
    "plt.plot(X_test['Heart_Rate'], lin_model.predict(X_test), color = 'blue')\n",
    "plt.title('Heart_Rate vs Calories_Burnt (Test set)')\n",
    "plt.xlabel('Heart_Rate')\n",
    "plt.ylabel('Calories_Burnt')\n",
    "plt.show()"
   ]
  },
  {
   "cell_type": "code",
   "execution_count": 33,
   "metadata": {},
   "outputs": [
    {
     "name": "stdout",
     "output_type": "stream",
     "text": [
      "Enter the Age:21\n",
      "Enter the height in cms.:178\n",
      "Enter the exercise durtion in min.:20\n",
      "Enter the heart_rate in bpm:120\n",
      "\u001b[1m Calories burnt:  368.7907621331041\n"
     ]
    }
   ],
   "source": [
    "Age = int(input('Enter the Age:'))\n",
    "Height = int(input('Enter the height in cms.:'))\n",
    "Duration = float(input('Enter the exercise durtion in min.:'))\n",
    "Heart_rate = int(input('Enter the heart_rate in bpm:'))\n",
    "readings = np.array([Age,Height,Duration,Heart_rate])\n",
    "a = np.sum(np.dot(readings.T,coefficients))\n",
    "bold_start = '\\033[1m'\n",
    "print(bold_start,\"Calories burnt: \", a)"
   ]
  },
  {
   "cell_type": "code",
   "execution_count": null,
   "metadata": {},
   "outputs": [],
   "source": []
  },
  {
   "cell_type": "code",
   "execution_count": null,
   "metadata": {},
   "outputs": [],
   "source": []
  },
  {
   "cell_type": "code",
   "execution_count": null,
   "metadata": {},
   "outputs": [],
   "source": []
  },
  {
   "cell_type": "code",
   "execution_count": null,
   "metadata": {},
   "outputs": [],
   "source": []
  },
  {
   "cell_type": "code",
   "execution_count": null,
   "metadata": {},
   "outputs": [],
   "source": []
  },
  {
   "cell_type": "code",
   "execution_count": null,
   "metadata": {},
   "outputs": [],
   "source": []
  },
  {
   "cell_type": "code",
   "execution_count": null,
   "metadata": {},
   "outputs": [],
   "source": []
  },
  {
   "cell_type": "code",
   "execution_count": null,
   "metadata": {},
   "outputs": [],
   "source": []
  },
  {
   "cell_type": "code",
   "execution_count": null,
   "metadata": {},
   "outputs": [],
   "source": []
  },
  {
   "cell_type": "code",
   "execution_count": null,
   "metadata": {},
   "outputs": [],
   "source": []
  },
  {
   "cell_type": "code",
   "execution_count": null,
   "metadata": {},
   "outputs": [],
   "source": []
  },
  {
   "cell_type": "code",
   "execution_count": null,
   "metadata": {},
   "outputs": [],
   "source": []
  }
 ],
 "metadata": {
  "kernelspec": {
   "display_name": "Python 3",
   "language": "python",
   "name": "python3"
  },
  "language_info": {
   "codemirror_mode": {
    "name": "ipython",
    "version": 3
   },
   "file_extension": ".py",
   "mimetype": "text/x-python",
   "name": "python",
   "nbconvert_exporter": "python",
   "pygments_lexer": "ipython3",
   "version": "3.8.8"
  }
 },
 "nbformat": 4,
 "nbformat_minor": 4
}
